{
  "cells": [
    {
      "cell_type": "markdown",
      "source": [
        "<h1>Alfin Abraham (4181788)</h1>\n",
        "<h1>Karthik Nalla(4178520)</h1>"
      ],
      "metadata": {
        "id": "H8NQwvaiaqic"
      }
    },
    {
      "cell_type": "markdown",
      "metadata": {
        "id": "wxTJqBGFaFUA"
      },
      "source": [
        "# TW5\n",
        "\n",
        "\n",
        "## Preprocessing Data: Data Clearning"
      ]
    },
    {
      "cell_type": "markdown",
      "metadata": {
        "id": "tlxKfO5VaFUP"
      },
      "source": [
        "#### Write full names of your team members who worked together.\n",
        "\n",
        "\n",
        "\n",
        "\n",
        "#### Submission:\n",
        "\n",
        "- Push the completed code to your Github repository.\n",
        "\n",
        "- Check submission details in Canvas. "
      ]
    },
    {
      "cell_type": "markdown",
      "metadata": {
        "id": "oNT9n9a3aFUS"
      },
      "source": [
        "### Handing missing data and invalid data\n",
        "\n",
        "Handling missing data is important as many machine learning algorithms do not support data with missing values. Our main objectives: \n",
        "\n",
        "- How to marking invalid or corrupt values as missing in a dataset.\n",
        "\n",
        "- How to remove rows with missing data from a dataset.\n",
        "\n",
        "- How to impute missing values with mean values in a dataset.\n",
        "\n",
        "#### Two examples below will show the data cleaning process. \n",
        "\n",
        "- Learn from the examples by going through each cell.\n",
        "\n",
        "- Apply the learn tools to conduct preprocessing a new dataset. \n",
        "\n",
        "\n",
        "See the more details:\n",
        "\n",
        "- Working with mssing data, in Pandas: \n",
        "\n",
        "https://pandas.pydata.org/pandas-docs/stable/user_guide/missing_data.html\n",
        "\n",
        "- How to inteporate the data, in Pandas: \n",
        "\n",
        "https://pandas.pydata.org/pandas-docs/stable/reference/api/pandas.Series.interpolate.html\n",
        "\n",
        "- Imputation of missing values, in Scikit-learn: \n",
        "\n",
        "https://scikit-learn.org/stable/modules/impute.html#impute\n",
        "\n",
        "\n",
        "*** Notes: It is import to read the Pandas and Scikit-learn libraries for their functions and examples before you use them.\n",
        "\n"
      ]
    },
    {
      "cell_type": "markdown",
      "metadata": {
        "id": "spM4XxgdaFUU"
      },
      "source": [
        "### A simple example: filling in missing data using Pandas"
      ]
    },
    {
      "cell_type": "code",
      "execution_count": 161,
      "metadata": {
        "id": "psztZqE7aFUW"
      },
      "outputs": [],
      "source": [
        "# Library import\n",
        "import numpy as np\n",
        "import pandas as pd\n",
        "import matplotlib.pyplot as plt\n",
        "from sklearn import preprocessing"
      ]
    },
    {
      "cell_type": "code",
      "execution_count": 162,
      "metadata": {
        "colab": {
          "base_uri": "https://localhost:8080/"
        },
        "id": "9JNpWiswaFUa",
        "outputId": "d988ff6d-c8d4-4908-c9de-452bd4c58c7b"
      },
      "outputs": [
        {
          "output_type": "stream",
          "name": "stdout",
          "text": [
            "         time    user       video  playback position paused  volume\n",
            "0  1469974424  cheryl  intro.html                  5  False    10.0\n",
            "1  1469974454  cheryl  intro.html                  6    NaN     NaN\n",
            "2  1469974544  cheryl  intro.html                  9    NaN     NaN\n",
            "3  1469974574  cheryl  intro.html                 10    NaN     NaN\n",
            "4  1469977514     bob  intro.html                  1    NaN     NaN\n",
            "          time    user       video  playback position paused  volume\n",
            "28  1469977664     bob  intro.html                  1    NaN     NaN\n",
            "29  1469974634  cheryl  intro.html                 12    NaN     NaN\n",
            "30  1469974664  cheryl  intro.html                 13    NaN     NaN\n",
            "31  1469977694     bob  intro.html                  1    NaN     NaN\n",
            "32  1469977724     bob  intro.html                  1    NaN     NaN\n"
          ]
        }
      ],
      "source": [
        "# Load the data\n",
        "# data file is located in folder data\n",
        "df = pd.read_csv('/content/log.csv')\n",
        "print(df.head())\n",
        "print(df.tail())"
      ]
    },
    {
      "cell_type": "code",
      "execution_count": 163,
      "metadata": {
        "colab": {
          "base_uri": "https://localhost:8080/"
        },
        "id": "_w4mqIZEaFUb",
        "outputId": "3e152473-a666-49c6-9152-53a9947d37ea"
      },
      "outputs": [
        {
          "output_type": "stream",
          "name": "stdout",
          "text": [
            "              user          video  playback position paused  volume\n",
            "time                                                               \n",
            "1469974424  cheryl     intro.html                  5  False    10.0\n",
            "1469974424     sue  advanced.html                 23  False    10.0\n",
            "1469974454  cheryl     intro.html                  6    NaN     NaN\n",
            "1469974454     sue  advanced.html                 24    NaN     NaN\n",
            "1469974484  cheryl     intro.html                  7    NaN     NaN\n"
          ]
        }
      ],
      "source": [
        "# you can make index\n",
        "df = df.set_index('time')\n",
        "df = df.sort_index()\n",
        "print(df.head())"
      ]
    },
    {
      "cell_type": "code",
      "execution_count": 164,
      "metadata": {
        "colab": {
          "base_uri": "https://localhost:8080/"
        },
        "id": "FKshCG3HaFUe",
        "outputId": "b7493ebc-9635-4d1c-aadc-ebb2b9ba11b6"
      },
      "outputs": [
        {
          "output_type": "stream",
          "name": "stdout",
          "text": [
            "                           video  playback position paused  volume\n",
            "time       user                                                   \n",
            "1469974424 cheryl     intro.html                  5  False    10.0\n",
            "           sue     advanced.html                 23  False    10.0\n",
            "1469974454 cheryl     intro.html                  6    NaN     NaN\n",
            "           sue     advanced.html                 24    NaN     NaN\n",
            "1469974484 cheryl     intro.html                  7    NaN     NaN\n"
          ]
        }
      ],
      "source": [
        "# reset index\n",
        "df = df.reset_index()\n",
        "df = df.set_index(['time', 'user'])\n",
        "print(df.head())"
      ]
    },
    {
      "cell_type": "code",
      "execution_count": 165,
      "metadata": {
        "colab": {
          "base_uri": "https://localhost:8080/"
        },
        "id": "adsjcpJwaFUf",
        "outputId": "9addd3c0-ac29-4434-e962-8d5cc4b700f7"
      },
      "outputs": [
        {
          "output_type": "stream",
          "name": "stdout",
          "text": [
            "                           video  playback position  paused  volume\n",
            "time       user                                                    \n",
            "1469974424 cheryl     intro.html                  5   False    10.0\n",
            "           sue     advanced.html                 23   False    10.0\n",
            "1469974454 cheryl     intro.html                  6   False    10.0\n",
            "           sue     advanced.html                 24   False    10.0\n",
            "1469974484 cheryl     intro.html                  7   False    10.0\n",
            "                      video  playback position  paused  volume\n",
            "time       user                                               \n",
            "1469977604 bob   intro.html                  1    True    10.0\n",
            "1469977634 bob   intro.html                  1    True    10.0\n",
            "1469977664 bob   intro.html                  1    True    10.0\n",
            "1469977694 bob   intro.html                  1    True    10.0\n",
            "1469977724 bob   intro.html                  1    True    10.0\n"
          ]
        }
      ],
      "source": [
        "# replace Nan with default value (previos value is used to fill in)\n",
        "df = df.fillna(method='ffill')\n",
        "print(df.head())\n",
        "print(df.tail())"
      ]
    },
    {
      "cell_type": "markdown",
      "metadata": {
        "id": "vTJ7PyyeaFUi"
      },
      "source": [
        "## Part 0\n",
        "### Data Clearning Exercise"
      ]
    },
    {
      "cell_type": "markdown",
      "metadata": {
        "id": "eMvyAd71aFUj"
      },
      "source": [
        "Pima Indians Diabetes Dataset: where we look at a dataset that has known missing values.\n",
        "Mark Missing Values: where we learn how to mark missing values in a dataset.\n",
        "Missing Values Causes Problems: where we see how a machine learning algorithm can fail when it contains missing values.\n",
        "Remove Rows With Missing Values: where we see how to remove rows that contain missing values.\n",
        "Impute Missing Values: where we replace missing values with sensible values.\n",
        "Algorithms that Support Missing Values: where we learn about algorithms that support missing values.\n",
        "\n",
        "1. Pima Indians Diabetes Dataset: where we look at a dataset that has known missing values.\n",
        "2. Mark Missing Values: where we learn how to mark missing values in a dataset.\n",
        "3. Missing Values Causes Problems: where we see how a machine learning algorithm can fail when it contains missing values.\n",
        "4. Remove Rows With Missing Values: where we see how to remove rows that contain missing values.\n",
        "5. Impute Missing Values: where we replace missing values with sensible values.\n",
        "6. Algorithms that Support Missing Values: where we learn about algorithms that support missing values."
      ]
    },
    {
      "cell_type": "markdown",
      "metadata": {
        "id": "wbP99g9baFUl"
      },
      "source": [
        "### 1. Dataset\n",
        "#### Working with Pima indians diabetes dataset\n",
        "\n",
        "\n",
        "\n",
        "#### In the folder of \"data\", you can find the follwoing files from folder data:\n",
        "\n",
        "- pima-indians-diabetes.csv\n",
        "\n",
        "- pima-indians-diabetes.names\n",
        "\n",
        "Both can be opend in Jupyter notebook\n",
        "\n",
        "#### Open the data file and look at the data. Also read readme.txt for data descrption. "
      ]
    },
    {
      "cell_type": "markdown",
      "metadata": {
        "id": "GPAuyrC5aFUm"
      },
      "source": [
        "The Pima Indians Diabetes Dataset involves predicting the onset of diabetes within 5 years in Pima Indians given medical details.\n",
        "\n",
        "It is a binary (2-class) classification problem. The number of observations for each class is not balanced. There are 768 observations with 8 input variables and 1 output variable. The variable names are as follows:\n",
        "\n",
        "0. Number of times pregnant.\n",
        "1. Plasma glucose concentration a 2 hours in an oral glucose tolerance test.\n",
        "2. Diastolic blood pressure (mm Hg).\n",
        "3. Triceps skinfold thickness (mm).\n",
        "4. 2-Hour serum insulin (mu U/ml).\n",
        "5. Body mass index (weight in kg/(height in m)^2).\n",
        "6. Diabetes pedigree function.\n",
        "7. Age (years).\n",
        "8. Class variable (0 or 1).\n",
        "\n",
        "The baseline performance of predicting the most prevalent class is a classification accuracy of approximately 65%. Top results achieve a classification accuracy of approximately 77%."
      ]
    },
    {
      "cell_type": "markdown",
      "metadata": {
        "id": "az7CD7JbaFUn"
      },
      "source": [
        "A sample of the first 5 rows is listed below.\n",
        "\n",
        "This dataset is known to have missing values. Specifically, there are missing observations for some columns that are marked as a zero value.\n",
        "\n",
        "We can corroborate this by the definition of those columns and the domain knowledge that a zero value is invalid for those measures, e.g. a zero for body mass index or blood pressure is invalid."
      ]
    },
    {
      "cell_type": "markdown",
      "metadata": {
        "id": "jOp7nE1DaFUo"
      },
      "source": [
        "### 2. Mark Missing Values\n",
        "\n",
        "we will look at how we can identify and mark values as missing.\n",
        "\n",
        "We can use plots and summary statistics to help identify missing or corrupt data.\n",
        "\n",
        "We can load the dataset as a Pandas DataFrame and print summary statistics on each attribute."
      ]
    },
    {
      "cell_type": "code",
      "execution_count": 166,
      "metadata": {
        "colab": {
          "base_uri": "https://localhost:8080/"
        },
        "id": "lxEC_2OsaFUp",
        "outputId": "2037014b-3bbd-4570-dc4a-f47e1730b633"
      },
      "outputs": [
        {
          "output_type": "stream",
          "name": "stdout",
          "text": [
            "                0           1           2           3           4           5  \\\n",
            "count  768.000000  768.000000  768.000000  768.000000  768.000000  768.000000   \n",
            "mean     3.845052  120.894531   69.105469   20.536458   79.799479   31.992578   \n",
            "std      3.369578   31.972618   19.355807   15.952218  115.244002    7.884160   \n",
            "min      0.000000    0.000000    0.000000    0.000000    0.000000    0.000000   \n",
            "25%      1.000000   99.000000   62.000000    0.000000    0.000000   27.300000   \n",
            "50%      3.000000  117.000000   72.000000   23.000000   30.500000   32.000000   \n",
            "75%      6.000000  140.250000   80.000000   32.000000  127.250000   36.600000   \n",
            "max     17.000000  199.000000  122.000000   99.000000  846.000000   67.100000   \n",
            "\n",
            "                6           7           8  \n",
            "count  768.000000  768.000000  768.000000  \n",
            "mean     0.471876   33.240885    0.348958  \n",
            "std      0.331329   11.760232    0.476951  \n",
            "min      0.078000   21.000000    0.000000  \n",
            "25%      0.243750   24.000000    0.000000  \n",
            "50%      0.372500   29.000000    0.000000  \n",
            "75%      0.626250   41.000000    1.000000  \n",
            "max      2.420000   81.000000    1.000000  \n"
          ]
        }
      ],
      "source": [
        "df = pd.read_csv('/content/pima-indians-diabetes.csv', header=None)\n",
        "\n",
        "print(df.describe())\n",
        "            "
      ]
    },
    {
      "cell_type": "markdown",
      "metadata": {
        "id": "dWiBIPBcaFUq"
      },
      "source": [
        "We can see that there are columns that have a minimum value of zero (0). On some columns, a value of zero does not make sense and indicates an invalid or missing value.\n",
        "\n",
        "Specifically, the following columns have an invalid zero minimum value:\n",
        "\n",
        "1: Plasma glucose concentration \n",
        "\n",
        "2: Diastolic blood pressure\n",
        "\n",
        "3: Triceps skinfold thickness\n",
        "\n",
        "4: 2-Hour serum insulin\n",
        "\n",
        "5: Body mass index"
      ]
    },
    {
      "cell_type": "code",
      "execution_count": 167,
      "metadata": {
        "colab": {
          "base_uri": "https://localhost:8080/"
        },
        "id": "wNwhgVdfaFUr",
        "outputId": "c318095b-f889-4997-8b72-44bb57506e82"
      },
      "outputs": [
        {
          "output_type": "stream",
          "name": "stdout",
          "text": [
            "     0    1   2   3    4     5      6   7  8\n",
            "0    6  148  72  35    0  33.6  0.627  50  1\n",
            "1    1   85  66  29    0  26.6  0.351  31  0\n",
            "2    8  183  64   0    0  23.3  0.672  32  1\n",
            "3    1   89  66  23   94  28.1  0.167  21  0\n",
            "4    0  137  40  35  168  43.1  2.288  33  1\n",
            "5    5  116  74   0    0  25.6  0.201  30  0\n",
            "6    3   78  50  32   88  31.0  0.248  26  1\n",
            "7   10  115   0   0    0  35.3  0.134  29  0\n",
            "8    2  197  70  45  543  30.5  0.158  53  1\n",
            "9    8  125  96   0    0   0.0  0.232  54  1\n",
            "10   4  110  92   0    0  37.6  0.191  30  0\n",
            "11  10  168  74   0    0  38.0  0.537  34  1\n",
            "12  10  139  80   0    0  27.1  1.441  57  0\n",
            "13   1  189  60  23  846  30.1  0.398  59  1\n",
            "14   5  166  72  19  175  25.8  0.587  51  1\n",
            "15   7  100   0   0    0  30.0  0.484  32  1\n",
            "16   0  118  84  47  230  45.8  0.551  31  1\n",
            "17   7  107  74   0    0  29.6  0.254  31  1\n",
            "18   1  103  30  38   83  43.3  0.183  33  0\n",
            "19   1  115  70  30   96  34.6  0.529  32  1\n"
          ]
        }
      ],
      "source": [
        "print(df.head(20))"
      ]
    },
    {
      "cell_type": "markdown",
      "metadata": {
        "id": "Vhst5K0TaFUr"
      },
      "source": [
        "We can get a count of the number of missing values on each of these columns. We can do this my marking all of the values in the subset of the DataFrame we are interested in that have zero values as True. We can then count the number of true values in each column.\n",
        "\n",
        "We can do this my marking all of the values in the subset of the DataFrame we are interested in that have zero values as True. We can then count the number of true values in each column."
      ]
    },
    {
      "cell_type": "code",
      "execution_count": 168,
      "metadata": {
        "colab": {
          "base_uri": "https://localhost:8080/"
        },
        "id": "s8WdcfxWaFUs",
        "outputId": "320bea3a-f05e-4b8b-92db-4d79344ad370"
      },
      "outputs": [
        {
          "output_type": "stream",
          "name": "stdout",
          "text": [
            "1      5\n",
            "2     35\n",
            "3    227\n",
            "4    374\n",
            "5     11\n",
            "dtype: int64\n"
          ]
        }
      ],
      "source": [
        "print((df[[1,2,3,4,5]] == 0).sum())"
      ]
    },
    {
      "cell_type": "markdown",
      "metadata": {
        "id": "OIzIMnQraFUt"
      },
      "source": [
        "We can see that columns 1,2 and 5 have just a few zero values, whereas columns 3 and 4 show a lot more, nearly half of the rows. This highlights that different “missing value” strategies may be needed for different columns, e.g. to ensure that there are still a sufficient number of records left to train a predictive model.\n",
        "\n",
        "In Python, specifically Pandas, NumPy and Scikit-Learn, we mark missing values as NaN. Values with a NaN value are ignored from operations like sum, count, etc.\n",
        "\n",
        "We can mark values as NaN easily with the Pandas DataFrame by using the replace() function on a subset of the columns we are interested in.\n",
        "\n",
        "After we have marked the missing values, we can use the isnull() function to mark all of the NaN values in the dataset as True and get a count of the missing values for each column."
      ]
    },
    {
      "cell_type": "code",
      "execution_count": 169,
      "metadata": {
        "colab": {
          "base_uri": "https://localhost:8080/"
        },
        "id": "0V-oMGWxaFUu",
        "outputId": "204a9b8e-5b8a-48a2-9b30-10df0dacc4a4"
      },
      "outputs": [
        {
          "output_type": "stream",
          "name": "stdout",
          "text": [
            "0      0\n",
            "1      5\n",
            "2     35\n",
            "3    227\n",
            "4    374\n",
            "5     11\n",
            "6      0\n",
            "7      0\n",
            "8      0\n",
            "dtype: int64\n"
          ]
        }
      ],
      "source": [
        "# mark zero values as missing or NaN\n",
        "df[[1,2,3,4,5]] = df[[1,2,3,4,5]].replace(0, np.NaN)\n",
        "\n",
        "# count the number of NaN values in each column\n",
        "print(df.isnull().sum())"
      ]
    },
    {
      "cell_type": "markdown",
      "metadata": {
        "id": "chy9tIdQaFUv"
      },
      "source": [
        "Running the example prints the number of missing values in each column. We can see that the columns 1:5 have the same number of missing values as zero values identified above. This is a sign that we have marked the identified missing values correctly.\n",
        "\n",
        "We can see that the columns 1 to 5 have the same number of missing values as zero values identified above. This is a sign that we have marked the identified missing values correctly."
      ]
    },
    {
      "cell_type": "code",
      "execution_count": 170,
      "metadata": {
        "colab": {
          "base_uri": "https://localhost:8080/"
        },
        "id": "joI7H1bcaFUx",
        "outputId": "75f006cd-100d-4396-c5a9-cf23280b6feb"
      },
      "outputs": [
        {
          "output_type": "stream",
          "name": "stdout",
          "text": [
            "     0      1     2     3      4     5      6   7  8\n",
            "0    6  148.0  72.0  35.0    NaN  33.6  0.627  50  1\n",
            "1    1   85.0  66.0  29.0    NaN  26.6  0.351  31  0\n",
            "2    8  183.0  64.0   NaN    NaN  23.3  0.672  32  1\n",
            "3    1   89.0  66.0  23.0   94.0  28.1  0.167  21  0\n",
            "4    0  137.0  40.0  35.0  168.0  43.1  2.288  33  1\n",
            "5    5  116.0  74.0   NaN    NaN  25.6  0.201  30  0\n",
            "6    3   78.0  50.0  32.0   88.0  31.0  0.248  26  1\n",
            "7   10  115.0   NaN   NaN    NaN  35.3  0.134  29  0\n",
            "8    2  197.0  70.0  45.0  543.0  30.5  0.158  53  1\n",
            "9    8  125.0  96.0   NaN    NaN   NaN  0.232  54  1\n",
            "10   4  110.0  92.0   NaN    NaN  37.6  0.191  30  0\n",
            "11  10  168.0  74.0   NaN    NaN  38.0  0.537  34  1\n",
            "12  10  139.0  80.0   NaN    NaN  27.1  1.441  57  0\n",
            "13   1  189.0  60.0  23.0  846.0  30.1  0.398  59  1\n",
            "14   5  166.0  72.0  19.0  175.0  25.8  0.587  51  1\n",
            "15   7  100.0   NaN   NaN    NaN  30.0  0.484  32  1\n",
            "16   0  118.0  84.0  47.0  230.0  45.8  0.551  31  1\n",
            "17   7  107.0  74.0   NaN    NaN  29.6  0.254  31  1\n",
            "18   1  103.0  30.0  38.0   83.0  43.3  0.183  33  0\n",
            "19   1  115.0  70.0  30.0   96.0  34.6  0.529  32  1\n"
          ]
        }
      ],
      "source": [
        "print(df.head(20))"
      ]
    },
    {
      "cell_type": "markdown",
      "metadata": {
        "id": "SfNAz2_-aFUx"
      },
      "source": [
        "Running the example, we can clearly see NaN values in the columns 2, 3, 4 and 5. There are only 5 missing values in column 1, so it is not surprising we did not see an example in the first 20 rows.\n",
        "\n",
        "It is clear from the raw data that marking the missing values had the intended effect."
      ]
    },
    {
      "cell_type": "markdown",
      "metadata": {
        "id": "9yX4MaKGaFUy"
      },
      "source": [
        "### 3. Missing Values Causes Problems\n",
        "\n",
        "Before we look at handling missing values, let’s first demonstrate that having missing values in a dataset can cause problems.\n",
        "\n",
        "Having missing values in a dataset can cause errors with some machine learning algorithms. We will try to evaluate a the Linear Discriminant Analysis (LDA) algorithm on the dataset with missing values. This is an algorithm that does not work when there are missing values in the dataset.\n",
        "\n",
        "The below example marks the missing values in the dataset, as we did in the previous sectio (changing 0 to Nan), then attempts to evaluate LDA using 3-fold cross validation and print the mean accuracy.\n",
        "\n",
        "*** Notes: The LDA algorithm and 3-fold cross validation will be discussed in class later. "
      ]
    },
    {
      "cell_type": "code",
      "execution_count": 171,
      "metadata": {
        "colab": {
          "base_uri": "https://localhost:8080/"
        },
        "id": "LQnANSnraFUz",
        "outputId": "a0129553-e52f-42cd-ab41-4bfa54f4b7a5"
      },
      "outputs": [
        {
          "output_type": "stream",
          "name": "stdout",
          "text": [
            "nan\n"
          ]
        },
        {
          "output_type": "stream",
          "name": "stderr",
          "text": [
            "/usr/local/lib/python3.7/dist-packages/sklearn/model_selection/_validation.py:372: FitFailedWarning: \n",
            "3 fits failed out of a total of 3.\n",
            "The score on these train-test partitions for these parameters will be set to nan.\n",
            "If these failures are not expected, you can try to debug them by setting error_score='raise'.\n",
            "\n",
            "Below are more details about the failures:\n",
            "--------------------------------------------------------------------------------\n",
            "3 fits failed with the following error:\n",
            "Traceback (most recent call last):\n",
            "  File \"/usr/local/lib/python3.7/dist-packages/sklearn/model_selection/_validation.py\", line 680, in _fit_and_score\n",
            "    estimator.fit(X_train, y_train, **fit_params)\n",
            "  File \"/usr/local/lib/python3.7/dist-packages/sklearn/discriminant_analysis.py\", line 545, in fit\n",
            "    X, y, ensure_min_samples=2, estimator=self, dtype=[np.float64, np.float32]\n",
            "  File \"/usr/local/lib/python3.7/dist-packages/sklearn/base.py\", line 581, in _validate_data\n",
            "    X, y = check_X_y(X, y, **check_params)\n",
            "  File \"/usr/local/lib/python3.7/dist-packages/sklearn/utils/validation.py\", line 976, in check_X_y\n",
            "    estimator=estimator,\n",
            "  File \"/usr/local/lib/python3.7/dist-packages/sklearn/utils/validation.py\", line 800, in check_array\n",
            "    _assert_all_finite(array, allow_nan=force_all_finite == \"allow-nan\")\n",
            "  File \"/usr/local/lib/python3.7/dist-packages/sklearn/utils/validation.py\", line 116, in _assert_all_finite\n",
            "    type_err, msg_dtype if msg_dtype is not None else X.dtype\n",
            "ValueError: Input contains NaN, infinity or a value too large for dtype('float64').\n",
            "\n",
            "  warnings.warn(some_fits_failed_message, FitFailedWarning)\n"
          ]
        }
      ],
      "source": [
        "from sklearn.discriminant_analysis import LinearDiscriminantAnalysis\n",
        "from sklearn.model_selection import KFold\n",
        "from sklearn.model_selection import cross_val_score\n",
        "\n",
        "df = pd.read_csv('/content/pima-indians-diabetes.csv', header=None)\n",
        "# mark zero values as missing or NaN\n",
        "df[[1,2,3,4,5]] = df[[1,2,3,4,5]].replace(0, np.NaN)\n",
        "\n",
        "# split dataset into inputs and outputs\n",
        "values = df.values\n",
        "X = values[:,0:8]\n",
        "y = values[:,8]\n",
        "\n",
        "# evaluate an LDA model on the dataset using k-fold cross validation\n",
        "model = LinearDiscriminantAnalysis()\n",
        "kfold = KFold(n_splits=3)\n",
        "\n",
        "result = cross_val_score(model, X, y, cv=kfold, scoring='accuracy')\n",
        "print(result.mean())"
      ]
    },
    {
      "cell_type": "markdown",
      "metadata": {
        "id": "gB9Rjmq1aFU0"
      },
      "source": [
        "Running the example results in an error, as follows:\n",
        "    \n",
        "This is as we expect.\n",
        "\n",
        "We are prevented from evaluating an LDA algorithm (and other algorithms) on the dataset with missing values.\n",
        "\n",
        "Now, we can look at methods to handle the missing values.\n"
      ]
    },
    {
      "cell_type": "markdown",
      "metadata": {
        "id": "Xn8MosIzaFU0"
      },
      "source": [
        "### 4. Remove Rows With Missing Values\n",
        "\n",
        "The simplest strategy for handling missing data is to remove records that contain a missing value.\n",
        "\n",
        "We can do this by creating a new Pandas DataFrame with the rows containing missing values removed.\n",
        "\n",
        "Pandas provides the dropna() function that can be used to drop either columns or rows with missing data. We can use dropna() to remove all rows with missing data, as follows:"
      ]
    },
    {
      "cell_type": "code",
      "execution_count": 172,
      "metadata": {
        "colab": {
          "base_uri": "https://localhost:8080/"
        },
        "id": "Xw0Jv-jSaFU1",
        "outputId": "48601358-8e06-4933-ab62-ca0eb0ba36ad"
      },
      "outputs": [
        {
          "output_type": "stream",
          "name": "stdout",
          "text": [
            "(392, 9)\n"
          ]
        }
      ],
      "source": [
        "dataset = pd.read_csv('/content/pima-indians-diabetes.csv', header=None)\n",
        "# mark zero values as missing or NaN\n",
        "df[[1,2,3,4,5]] = df[[1,2,3,4,5]].replace(0, np.NaN)\n",
        "\n",
        "# drop rows with missing values\n",
        "df.dropna(inplace=True)\n",
        "# summarize the number of rows and columns in the dataset\n",
        "print(df.shape)"
      ]
    },
    {
      "cell_type": "markdown",
      "metadata": {
        "id": "zY3PH2_saFU2"
      },
      "source": [
        "Running this example, we can see that the number of rows has been aggressively cut from 768 in the original dataset to 392 with all rows containing a NaN removed.\n",
        "\n",
        "We now have a dataset that we could use to evaluate an algorithm sensitive to missing values like LDA."
      ]
    },
    {
      "cell_type": "code",
      "execution_count": 173,
      "metadata": {
        "colab": {
          "base_uri": "https://localhost:8080/"
        },
        "id": "dQ3SORsSaFU2",
        "outputId": "e578ac22-ed24-40ff-f1fe-c8600cc42a6e"
      },
      "outputs": [
        {
          "output_type": "stream",
          "name": "stdout",
          "text": [
            "0.7832648267762772\n"
          ]
        }
      ],
      "source": [
        "df = pd.read_csv('/content/pima-indians-diabetes.csv', header=None)\n",
        "# mark zero values as missing or NaN\n",
        "df[[1,2,3,4,5]] = df[[1,2,3,4,5]].replace(0, np.NaN)\n",
        "\n",
        "# drop rows with missing values\n",
        "df.dropna(inplace=True)\n",
        "# split dataset into inputs and outputs\n",
        "values = df.values\n",
        "X = values[:,0:8]\n",
        "y = values[:,8]\n",
        "# evaluate an LDA model on the dataset using k-fold cross validation\n",
        "model = LinearDiscriminantAnalysis()\n",
        "kfold = KFold(n_splits=3, random_state=7, shuffle=True)\n",
        "result = cross_val_score(model, X, y, cv=kfold, scoring='accuracy')\n",
        "print(result.mean())"
      ]
    },
    {
      "cell_type": "markdown",
      "metadata": {
        "id": "tbWGy6EzaFU3"
      },
      "source": [
        "The example runs successfully and prints the accuracy of the model.\n",
        "\n",
        "Removing rows with missing values can be too limiting on some predictive modeling problems, an alternative is to impute missing values."
      ]
    },
    {
      "cell_type": "markdown",
      "metadata": {
        "id": "SVDIhAJQaFU3"
      },
      "source": [
        "### 5. Impute Missing Values\n",
        "\n",
        "Imputing refers to using a model to replace missing values.\n",
        "\n",
        "There are many options we could consider when replacing a missing value, for example:\n",
        "\n",
        "- A constant value that has meaning within the domain, such as 0, distinct from all other values.\n",
        "\n",
        "- A value from another randomly selected record.\n",
        "\n",
        "- A mean, median or mode value for the column.\n",
        "\n",
        "- A value estimated by another predictive model.\n",
        "\n",
        "Any imputing performed on the training dataset will have to be performed on new data in the future when predictions are needed from the finalized model. This needs to be taken into consideration when choosing how to impute the missing values.\n",
        "\n",
        "- For example, if you choose to impute with mean column values, these mean column values will need to be stored to file for later use on new data that has missing values.\n",
        "\n",
        "Pandas provides the fillna() function for replacing missing values with a specific value.\n",
        "\n",
        "- For example, we can use fillna() to replace missing values with the mean value for each column, as follows:"
      ]
    },
    {
      "cell_type": "markdown",
      "metadata": {
        "id": "3Mb-SHwLaFU4"
      },
      "source": [
        "### Using Pandas"
      ]
    },
    {
      "cell_type": "code",
      "execution_count": 174,
      "metadata": {
        "colab": {
          "base_uri": "https://localhost:8080/"
        },
        "id": "F47iKUJQaFU5",
        "outputId": "3e64464d-1f85-4680-970e-5bdd7407f0e0"
      },
      "outputs": [
        {
          "output_type": "stream",
          "name": "stdout",
          "text": [
            "   0      1     2     3      4     5      6   7  8\n",
            "0  6  148.0  72.0  35.0    NaN  33.6  0.627  50  1\n",
            "1  1   85.0  66.0  29.0    NaN  26.6  0.351  31  0\n",
            "2  8  183.0  64.0   NaN    NaN  23.3  0.672  32  1\n",
            "3  1   89.0  66.0  23.0   94.0  28.1  0.167  21  0\n",
            "4  0  137.0  40.0  35.0  168.0  43.1  2.288  33  1\n",
            "   0      1     2         3           4     5      6   7  8\n",
            "0  6  148.0  72.0  35.00000  155.548223  33.6  0.627  50  1\n",
            "1  1   85.0  66.0  29.00000  155.548223  26.6  0.351  31  0\n",
            "2  8  183.0  64.0  29.15342  155.548223  23.3  0.672  32  1\n",
            "3  1   89.0  66.0  23.00000   94.000000  28.1  0.167  21  0\n",
            "4  0  137.0  40.0  35.00000  168.000000  43.1  2.288  33  1\n",
            "0    0\n",
            "1    0\n",
            "2    0\n",
            "3    0\n",
            "4    0\n",
            "5    0\n",
            "6    0\n",
            "7    0\n",
            "8    0\n",
            "dtype: int64\n"
          ]
        }
      ],
      "source": [
        "df = pd.read_csv('/content/pima-indians-diabetes.csv', header=None)\n",
        "\n",
        "# mark zero values as missing or NaN\n",
        "df[[1,2,3,4,5]] = df[[1,2,3,4,5]].replace(0, np.NaN)\n",
        "print(df.head(5))\n",
        "\n",
        "# fill missing values with mean column values\n",
        "df.fillna(df.mean(), inplace=True)\n",
        "# count the number of NaN values in each column\n",
        "\n",
        "print(df.head(5))\n",
        "\n",
        "print(df.isnull().sum())"
      ]
    },
    {
      "cell_type": "markdown",
      "metadata": {
        "id": "V7YBoboAaFU6"
      },
      "source": [
        "### Using Scikit-learn"
      ]
    },
    {
      "cell_type": "markdown",
      "metadata": {
        "id": "ON2lLlimaFU6"
      },
      "source": [
        "#### SimpleImputer\n",
        "\n",
        "The scikit-learn library provides the SimpleImputer() class that can be used to replace missing values.\n",
        "\n",
        "It is a flexible class that allows you to specify the value to replace (it can be something other than NaN) and the technique used to replace it (such as mean, median, or mode). The Imputer class operates directly on the NumPy array instead of the DataFrame.\n",
        "\n",
        "The example below uses the Imputer class to replace missing values with the mean of each column then prints the number of NaN values in the transformed matrix."
      ]
    },
    {
      "cell_type": "code",
      "execution_count": 175,
      "metadata": {
        "colab": {
          "base_uri": "https://localhost:8080/"
        },
        "id": "ebvinxCVaFU7",
        "outputId": "79e3b76d-7e9c-4496-c6c8-363ee2e333be"
      },
      "outputs": [
        {
          "output_type": "stream",
          "name": "stdout",
          "text": [
            "0\n"
          ]
        }
      ],
      "source": [
        "from sklearn.impute import SimpleImputer\n",
        "\n",
        "df = pd.read_csv('/content/pima-indians-diabetes.csv', header=None)\n",
        "# mark zero values as missing or NaN\n",
        "df[[1,2,3,4,5]] = df[[1,2,3,4,5]].replace(0, np.NaN)\n",
        "\n",
        "# fill missing values with mean column values\n",
        "values = df.values\n",
        "imputer = SimpleImputer()\n",
        "transformed_values = imputer.fit_transform(values)\n",
        "\n",
        "# count the number of NaN values in each column\n",
        "print(np.isnan(transformed_values).sum())"
      ]
    },
    {
      "cell_type": "markdown",
      "metadata": {
        "id": "QMRcPTp9aFU7"
      },
      "source": [
        "Running the example shows that all NaN values were imputed successfully.\n",
        "\n",
        "In either case, we can train algorithms sensitive to NaN values in the transformed dataset, such as LDA.\n",
        "\n",
        "The example below shows the LDA algorithm trained in the Imputer transformed dataset."
      ]
    },
    {
      "cell_type": "code",
      "execution_count": 176,
      "metadata": {
        "colab": {
          "base_uri": "https://localhost:8080/"
        },
        "id": "XZLbbDuDaFU8",
        "outputId": "7c86ca3e-34e4-4e9d-966a-62038a8ea565"
      },
      "outputs": [
        {
          "output_type": "stream",
          "name": "stdout",
          "text": [
            "0.765625\n"
          ]
        }
      ],
      "source": [
        "from sklearn.impute import SimpleImputer\n",
        "from sklearn.discriminant_analysis import LinearDiscriminantAnalysis\n",
        "from sklearn.model_selection import KFold\n",
        "from sklearn.model_selection import cross_val_score\n",
        "\n",
        "df = pd.read_csv('/content/pima-indians-diabetes.csv', header=None)\n",
        "# mark zero values as missing or NaN\n",
        "df[[1,2,3,4,5]] = df[[1,2,3,4,5]].replace(0, np.NaN)\n",
        "\n",
        "# split dataset into inputs and outputs\n",
        "values = df.values\n",
        "X = values[:,0:8]\n",
        "y = values[:,8]\n",
        "\n",
        "# fill missing values with mean column values\n",
        "imputer = SimpleImputer()\n",
        "transformed_X = imputer.fit_transform(X)\n",
        "\n",
        "# evaluate an LDA model on the dataset using k-fold cross validation\n",
        "model = LinearDiscriminantAnalysis()\n",
        "kfold = KFold(n_splits=3, random_state=7, shuffle=True)\n",
        "result = cross_val_score(model, transformed_X, y, cv=kfold, scoring='accuracy')\n",
        "print(result.mean())"
      ]
    },
    {
      "cell_type": "markdown",
      "metadata": {
        "id": "ZCyQpGPXaFU8"
      },
      "source": [
        "Running the example prints the accuracy of LDA on the transformed dataset.\n",
        "\n",
        "Try replacing the missing values with other values and see if you can lift the performance of the model.\n",
        "\n",
        "Maybe missing values have meaning in the data.\n",
        "\n",
        "Next we will look at using algorithms that treat missing values as just another value when modeling."
      ]
    },
    {
      "cell_type": "markdown",
      "metadata": {
        "id": "XGUYIj8DaFU9"
      },
      "source": [
        "### 6. Algorithms that Support Missing Values\n",
        "\n",
        "Not all algorithms fail when there is missing data.\n",
        "\n",
        "There are algorithms that can be made robust to missing data, such as k-Nearest Neighbors that can ignore a column from a distance measure when a value is missing. There are also algorithms that can use the missing value as a unique and different value when building the predictive model, such as classification and regression trees. Sadly, the scikit-learn implementations of decision trees and k-Nearest Neighbors are not robust to missing values. Although it is being considered.\n",
        "\n",
        "Nevertheless, this remains as an option if you consider using another algorithm implementation (such as xgboost) or developing your own implementation."
      ]
    },
    {
      "cell_type": "markdown",
      "metadata": {
        "id": "cM7f8AWgaFU9"
      },
      "source": [
        "### More details\n",
        "\n",
        "- See examples of handling missing data at Pandas: \n",
        "https://pandas.pydata.org/pandas-docs/stable/user_guide/missing_data.html\n",
        "\n",
        "- See also examples of imputating missing data at Scikit-learn:\n",
        "https://scikit-learn.org/stable/modules/impute.html#impute"
      ]
    },
    {
      "cell_type": "markdown",
      "metadata": {
        "id": "j3NnrzppaFU-"
      },
      "source": [
        "Reference:\n",
        "- Data clearning example with Pima Indians Diabetes dataset was created by Jason Brownlee and modified by Wan Bae. "
      ]
    },
    {
      "cell_type": "markdown",
      "metadata": {
        "id": "FPXjQj-aaFU-"
      },
      "source": [
        "## TW5 Part 1\n",
        "\n",
        "Dataset: ./data/daily-temperatures.csv\n",
        "\n",
        "Daily minimum and maximum temperatures (in Celsius) in Melbourne, Australia, 1981-1990\n",
        "\n",
        "Source: Time Series Data Library (citing: Australian Bureau of Meteorology)\n",
        "\n",
        "\n",
        "This dataset has known missing values and also incorrect values\n",
        "\n",
        "- no value is reported so no value in some cells\n",
        "\n",
        "- invalid values for temperature: You can see some temprature values >= 200 and <= -800, which are invalid\n",
        "\n",
        "(1) First, you may want to plot the each max temperature and min temperature or both to check the ranges of the data. You may find something incorrect from the plot(s).\n",
        "\n",
        "(2) Discuss how you would handle these values: missing values and invalid values\n",
        "\n",
        "(3) Use tools (in Pandas and Scikit-learn) we talked about in the above examples to process data.\n",
        "\n",
        "(4) Visualize the data. "
      ]
    },
    {
      "cell_type": "code",
      "execution_count": 177,
      "metadata": {
        "colab": {
          "base_uri": "https://localhost:8080/",
          "height": 536
        },
        "id": "55G0T-D3aFU_",
        "outputId": "f10cfcff-4365-4d38-c30a-0bf159fc0359"
      },
      "outputs": [
        {
          "output_type": "stream",
          "name": "stdout",
          "text": [
            "<class 'pandas.core.frame.DataFrame'>\n",
            "RangeIndex: 3650 entries, 0 to 3649\n",
            "Data columns (total 3 columns):\n",
            " #   Column           Non-Null Count  Dtype  \n",
            "---  ------           --------------  -----  \n",
            " 0   Date             3650 non-null   object \n",
            " 1   max_temperature  3643 non-null   object \n",
            " 2   min_temperature  3645 non-null   float64\n",
            "dtypes: float64(1), object(2)\n",
            "memory usage: 85.7+ KB\n",
            "None\n"
          ]
        },
        {
          "output_type": "execute_result",
          "data": {
            "text/plain": [
              "<matplotlib.axes._subplots.AxesSubplot at 0x7fedd7c880d0>"
            ]
          },
          "metadata": {},
          "execution_count": 177
        },
        {
          "output_type": "display_data",
          "data": {
            "text/plain": [
              "<Figure size 360x360 with 1 Axes>"
            ],
            "image/png": "[encoded data removed]"
          },
          "metadata": {
            "needs_background": "light"
          }
        }
      ],
      "source": [
        "df = pd.read_csv('/content/daily-temperatures.csv')\n",
        "print(df.info())\n",
        "df.plot(y='min_temperature',figsize=(5,5))"
      ]
    },
    {
      "cell_type": "markdown",
      "source": [
        "From above we can see that, we cannot plot the `max_temperature`(attribute) as it's of `object datatype`.\n",
        "We also infer that both attribute have `invalid values` resulting in incorrect plots."
      ],
      "metadata": {
        "id": "h0uWKAbitQJF"
      }
    },
    {
      "cell_type": "code",
      "execution_count": 178,
      "metadata": {
        "colab": {
          "base_uri": "https://localhost:8080/"
        },
        "id": "VthebCadaFVA",
        "outputId": "ea6bab07-5ce6-4937-df30-1e0e8594b29b"
      },
      "outputs": [
        {
          "output_type": "stream",
          "name": "stdout",
          "text": [
            "<class 'pandas.core.frame.DataFrame'>\n",
            "RangeIndex: 3650 entries, 0 to 3649\n",
            "Data columns (total 3 columns):\n",
            " #   Column           Non-Null Count  Dtype  \n",
            "---  ------           --------------  -----  \n",
            " 0   Date             3650 non-null   object \n",
            " 1   max_temperature  3643 non-null   float64\n",
            " 2   min_temperature  3645 non-null   float64\n",
            "dtypes: float64(2), object(1)\n",
            "memory usage: 85.7+ KB\n"
          ]
        }
      ],
      "source": [
        "df['max_temperature'] = df['max_temperature'].replace('22.+B3117', '0')\n",
        "# converting max_temperature from object to float\n",
        "df = df.astype({'max_temperature':'float'})\n",
        "df.info()"
      ]
    },
    {
      "cell_type": "markdown",
      "source": [
        "Before we proceed any further we must first handle the missing and invalid values using the Pandas and Scikit-learn tools that have been mentioned in Part 0 of the notebook.\n",
        "We shall replace missing and invalid values with NaN value."
      ],
      "metadata": {
        "id": "ds3JiJKwyNUj"
      }
    },
    {
      "cell_type": "code",
      "execution_count": 179,
      "metadata": {
        "colab": {
          "base_uri": "https://localhost:8080/"
        },
        "id": "LJ5rVIDfaFVA",
        "outputId": "549a59ed-0a62-43e8-9228-84c5bbabb752"
      },
      "outputs": [
        {
          "output_type": "stream",
          "name": "stdout",
          "text": [
            "     Date  max_temperature  min_temperature\n",
            "0  1/1/81             38.1             20.7\n",
            "1  1/2/81              NaN             17.9\n",
            "2  1/3/81             34.5             18.8\n",
            "3  1/4/81             20.7             14.6\n",
            "4  1/5/81             21.5             15.8\n",
            "5  1/6/81              NaN              NaN\n",
            "     Date  max_temperature  min_temperature\n",
            "0  1/1/81        38.100000        20.700000\n",
            "1  1/2/81        19.982488        17.900000\n",
            "2  1/3/81        34.500000        18.800000\n",
            "3  1/4/81        20.700000        14.600000\n",
            "4  1/5/81        21.500000        15.800000\n",
            "5  1/6/81        19.982488        11.169499\n",
            "Date               0\n",
            "max_temperature    0\n",
            "min_temperature    0\n",
            "dtype: int64\n"
          ]
        },
        {
          "output_type": "stream",
          "name": "stderr",
          "text": [
            "/usr/local/lib/python3.7/dist-packages/ipykernel_launcher.py:12: FutureWarning: Dropping of nuisance columns in DataFrame reductions (with 'numeric_only=None') is deprecated; in a future version this will raise TypeError.  Select only valid columns before calling the reduction.\n",
            "  if sys.path[0] == '':\n"
          ]
        }
      ],
      "source": [
        "# By pandas method\n",
        "\n",
        "# replacing invalid values with NaN\n",
        "df['max_temperature'] = df['max_temperature'].replace(300, np.NaN)\n",
        "df['min_temperature'] = df['min_temperature'].replace(-800, np.NaN)\n",
        "\n",
        "\n",
        "# mark zero values as missing or NaN\n",
        "df[['max_temperature','min_temperature']] = df[['max_temperature','min_temperature']].replace(0, np.NaN)\n",
        "print(df.head(6))\n",
        "# fill missing values with mean column values\n",
        "df.fillna(df.mean(), inplace=True)\n",
        "# count the number of NaN values in each column\n",
        "print(df.head(6))\n",
        "print(df.isnull().sum())"
      ]
    },
    {
      "cell_type": "code",
      "source": [
        "# histograms\n",
        "bin_values = np.arange(start=-50, stop=100, step=5)\n",
        "df.loc[:,['max_temperature','min_temperature']].hist(bins=bin_values, figsize = [8, 8])"
      ],
      "metadata": {
        "colab": {
          "base_uri": "https://localhost:8080/",
          "height": 553
        },
        "id": "bzlGxOQqvLiy",
        "outputId": "26e23a23-14fd-474a-a40a-ad5149a91766"
      },
      "execution_count": 180,
      "outputs": [
        {
          "output_type": "execute_result",
          "data": {
            "text/plain": [
              "array([[<matplotlib.axes._subplots.AxesSubplot object at 0x7fedd7c27250>,\n",
              "        <matplotlib.axes._subplots.AxesSubplot object at 0x7fedd7bd8150>]],\n",
              "      dtype=object)"
            ]
          },
          "metadata": {},
          "execution_count": 180
        },
        {
          "output_type": "display_data",
          "data": {
            "text/plain": [
              "<Figure size 576x576 with 2 Axes>"
            ],
            "image/png": "[encoded data removed]"
          },
          "metadata": {
            "needs_background": "light"
          }
        }
      ]
    },
    {
      "cell_type": "code",
      "source": [
        "# By Scikit-learn method\n",
        "\n",
        "from sklearn.impute import SimpleImputer\n",
        "\n",
        "df = pd.read_csv('/content/daily-temperatures.csv')\n",
        "df['max_temperature'] = df['max_temperature'].replace('22.+B3117', '0')\n",
        "# converting max_temperature from object to float\n",
        "df = df.astype({'max_temperature':'float'})\n",
        "\n",
        "# replacing invalid values with NaN\n",
        "df['max_temperature'] = df['max_temperature'].replace(300, np.NaN)\n",
        "df['min_temperature'] = df['min_temperature'].replace(-800, np.NaN)\n",
        "\n",
        "# mark zero values as missing or NaN\n",
        "df[['max_temperature','min_temperature']] = df[['max_temperature','min_temperature']].replace(0, np.NaN)\n",
        "\n",
        "# fill missing values with mean column values\n",
        "values = df[['max_temperature','min_temperature']]\n",
        "imputer = SimpleImputer()\n",
        "transformed_values = imputer.fit_transform(values)\n",
        "\n",
        "# count the number of NaN values in each column\n",
        "print(np.isnan(transformed_values).sum())"
      ],
      "metadata": {
        "colab": {
          "base_uri": "https://localhost:8080/"
        },
        "id": "emsmHTdzCWSa",
        "outputId": "14e31022-8430-4348-d415-d562b5711df7"
      },
      "execution_count": 181,
      "outputs": [
        {
          "output_type": "stream",
          "name": "stdout",
          "text": [
            "0\n"
          ]
        }
      ]
    },
    {
      "cell_type": "code",
      "source": [
        "# Box Plot\n",
        "df.loc[:,['max_temperature','min_temperature']].plot(kind='box', figsize=[5, 5])\n",
        "\n",
        "# line plot\n",
        "df.plot(y='max_temperature',figsize=(10,10))\n",
        "# line plot\n",
        "df.plot(y='min_temperature',figsize=(10,10))\n"
      ],
      "metadata": {
        "colab": {
          "base_uri": "https://localhost:8080/",
          "height": 1000
        },
        "id": "9-lAFM6NEk9X",
        "outputId": "09b45bc9-03ca-4066-f1ce-ba2069a7a119"
      },
      "execution_count": 182,
      "outputs": [
        {
          "output_type": "stream",
          "name": "stderr",
          "text": [
            "/usr/local/lib/python3.7/dist-packages/matplotlib/cbook/__init__.py:1376: VisibleDeprecationWarning: Creating an ndarray from ragged nested sequences (which is a list-or-tuple of lists-or-tuples-or ndarrays with different lengths or shapes) is deprecated. If you meant to do this, you must specify 'dtype=object' when creating the ndarray.\n",
            "  X = np.atleast_1d(X.T if isinstance(X, np.ndarray) else np.asarray(X))\n"
          ]
        },
        {
          "output_type": "execute_result",
          "data": {
            "text/plain": [
              "<matplotlib.axes._subplots.AxesSubplot at 0x7fedd798f590>"
            ]
          },
          "metadata": {},
          "execution_count": 182
        },
        {
          "output_type": "display_data",
          "data": {
            "text/plain": [
              "<Figure size 360x360 with 1 Axes>"
            ],
            "image/png": "[encoded data removed]"
          },
          "metadata": {
            "needs_background": "light"
          }
        },
        {
          "output_type": "display_data",
          "data": {
            "text/plain": [
              "<Figure size 720x720 with 1 Axes>"
            ],
            "image/png": "[encoded data removed]"
          },
          "metadata": {
            "needs_background": "light"
          }
        },
        {
          "output_type": "display_data",
          "data": {
            "text/plain": [
              "<Figure size 720x720 with 1 Axes>"
            ],
            "image/png": "[encoded data removed]"
          },
          "metadata": {
            "needs_background": "light"
          }
        }
      ]
    },
    {
      "cell_type": "markdown",
      "metadata": {
        "id": "f_fPaah0aFVA"
      },
      "source": [
        "### Part 2\n",
        "Write a summary of what your team has learned from this process. "
      ]
    },
    {
      "cell_type": "markdown",
      "source": [
        "`To sum up, we learnt that handling of missing data and invalid values is necessary. From the above experiments it is now very clear the meaning of garbage in, garbage out phrase in the Data Science methodology.`"
      ],
      "metadata": {
        "id": "R7-AnSk4Gv2A"
      }
    }
  ],
  "metadata": {
    "kernelspec": {
      "display_name": "Python 3",
      "language": "python",
      "name": "python3"
    },
    "language_info": {
      "codemirror_mode": {
        "name": "ipython",
        "version": 3
      },
      "file_extension": ".py",
      "mimetype": "text/x-python",
      "name": "python",
      "nbconvert_exporter": "python",
      "pygments_lexer": "ipython3",
      "version": "3.7.3"
    },
    "colab": {
      "provenance": []
    }
  },
  "nbformat": 4,
  "nbformat_minor": 0
}